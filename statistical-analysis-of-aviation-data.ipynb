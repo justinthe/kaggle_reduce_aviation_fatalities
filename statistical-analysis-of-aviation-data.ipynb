{
 "cells": [
  {
   "cell_type": "markdown",
   "metadata": {
    "_uuid": "6011c533ea723c7c4072f69f84882fd4fc614697"
   },
   "source": [
    "# Starter Code : EDA and LGBM Baseline "
   ]
  },
  {
   "cell_type": "code",
   "execution_count": null,
   "metadata": {
    "_cell_guid": "b1076dfc-b9ad-4769-8c92-a6c4dae69d19",
    "_kg_hide-input": true,
    "_kg_hide-output": false,
    "_uuid": "8f2839f25d086af736a60e9eeb907d3b93b6e0e5"
   },
   "outputs": [],
   "source": [
    "import warnings\n",
    "import itertools\n",
    "import numpy as np \n",
    "import pandas as pd\n",
    "import seaborn as sns\n",
    "import lightgbm as lgb\n",
    "import matplotlib.pyplot as plt\n",
    "from tqdm import tqdm_notebook as tqdm\n",
    "from sklearn.preprocessing import MinMaxScaler\n",
    "from sklearn.model_selection import train_test_split\n",
    "from sklearn.metrics import confusion_matrix, log_loss\n",
    "import dask.dataframe as dd\n",
    "import dask\n",
    "\n",
    "%matplotlib inline\n",
    "plt.style.use(\"fivethirtyeight\")\n",
    "\n",
    "import os\n",
    "import gc\n",
    "print(os.listdir(\"../input\"))\n",
    "\n",
    "warnings.simplefilter(action='ignore')\n",
    "sns.set_style('whitegrid')"
   ]
  },
  {
   "cell_type": "markdown",
   "metadata": {
    "_uuid": "358db589356453dc15fb0eb724b4819e4efbdbbb"
   },
   "source": [
    "## 1 - Loading the Data"
   ]
  },
  {
   "cell_type": "code",
   "execution_count": null,
   "metadata": {
    "_kg_hide-input": true,
    "_uuid": "112a709baa698f2d74073266f1cba588d33dd6ed"
   },
   "outputs": [],
   "source": [
    "def gc():\n",
    "    print(gc.collect())\n",
    "\n",
    "dtypes = {\"crew\": \"int8\",\n",
    "          \"experiment\": \"category\",\n",
    "          \"time\": \"float32\",\n",
    "          \"seat\": \"int8\",\n",
    "          \"eeg_fp1\": \"float32\",\n",
    "          \"eeg_f7\": \"float32\",\n",
    "          \"eeg_f8\": \"float32\",\n",
    "          \"eeg_t4\": \"float32\",\n",
    "          \"eeg_t6\": \"float32\",\n",
    "          \"eeg_t5\": \"float32\",\n",
    "          \"eeg_t3\": \"float32\",\n",
    "          \"eeg_fp2\": \"float32\",\n",
    "          \"eeg_o1\": \"float32\",\n",
    "          \"eeg_p3\": \"float32\",\n",
    "          \"eeg_pz\": \"float32\",\n",
    "          \"eeg_f3\": \"float32\",\n",
    "          \"eeg_fz\": \"float32\",\n",
    "          \"eeg_f4\": \"float32\",\n",
    "          \"eeg_c4\": \"float32\",\n",
    "          \"eeg_p4\": \"float32\",\n",
    "          \"eeg_poz\": \"float32\",\n",
    "          \"eeg_c3\": \"float32\",\n",
    "          \"eeg_cz\": \"float32\",\n",
    "          \"eeg_o2\": \"float32\",\n",
    "          \"ecg\": \"float32\",\n",
    "          \"r\": \"float32\",\n",
    "          \"gsr\": \"float32\",\n",
    "          \"event\": \"category\",\n",
    "         }\n",
    "\n",
    "import matplotlib.pyplot as plt\n",
    "import itertools\n",
    "def plot_confusion_matrix(cm, classes,\n",
    "                          normalize=True,\n",
    "                          title='Confusion matrix',\n",
    "                          cmap=plt.cm.Blues):\n",
    "    \"\"\"\n",
    "    This function prints and plots the confusion matrix.\n",
    "    Normalization can be applied by setting `normalize=True`.\n",
    "    \"\"\"\n",
    "    if normalize:\n",
    "        cm = cm.astype('float') / cm.sum(axis=1)[:, np.newaxis]\n",
    "        print(\"Normalized confusion matrix\")\n",
    "    else:\n",
    "        print('Confusion matrix, without normalization')\n",
    "\n",
    "    print(cm)\n",
    "\n",
    "    plt.imshow(cm, interpolation='nearest', cmap=cmap)\n",
    "    plt.title(title)\n",
    "    plt.colorbar()\n",
    "    tick_marks = np.arange(len(classes))\n",
    "    plt.xticks(tick_marks, classes, rotation=45)\n",
    "    plt.yticks(tick_marks, classes)\n",
    "\n",
    "    fmt = '.2f' if normalize else 'd'\n",
    "    thresh = cm.max() / 2.\n",
    "    for i, j in itertools.product(range(cm.shape[0]), range(cm.shape[1])):\n",
    "        plt.text(j, i, format(cm[i, j], fmt),\n",
    "                 horizontalalignment=\"center\",\n",
    "                 color=\"white\" if cm[i, j] > thresh else \"black\")\n",
    "\n",
    "    plt.ylabel('True label')\n",
    "    plt.xlabel('Predicted label')\n",
    "    plt.tight_layout()"
   ]
  },
  {
   "cell_type": "code",
   "execution_count": null,
   "metadata": {
    "_cell_guid": "79c7e3d0-c299-4dcb-8224-4455121ee9b0",
    "_uuid": "d629ff2d2480ee46fbb7e2d37f6b5fab8052498a"
   },
   "outputs": [],
   "source": [
    "%%time\n",
    "train_df = dd.read_csv(\"../input/train.csv\", blocksize= 256e6, dtype = dtypes)"
   ]
  },
  {
   "cell_type": "code",
   "execution_count": null,
   "metadata": {
    "_uuid": "aba233a48d73aa1f9cc1c4a376c1c82ff377f4e7"
   },
   "outputs": [],
   "source": [
    "%%time\n",
    "test_df = dd.read_csv(\"../input/test.csv\", blocksize= 256e6, dtype = dtypes)\n",
    "# test_df = pd.read_csv(\"../input/test.csv\", dtype=dtypes)"
   ]
  },
  {
   "cell_type": "code",
   "execution_count": null,
   "metadata": {
    "_uuid": "424dd33b5b3415d157f7e6861a7d654e89126c1e"
   },
   "outputs": [],
   "source": [
    "%%time\n",
    "train_df = train_df.compute()\n",
    "print(\"Training shape : \", train_df.shape)"
   ]
  },
  {
   "cell_type": "code",
   "execution_count": null,
   "metadata": {
    "_uuid": "8a40a4c84d9f3d21116deeaff2fdbc06b8c6a7c7"
   },
   "outputs": [],
   "source": [
    "%%time\n",
    "test_df = test_df.compute()\n",
    "print(\"Testing shape : \", test_df.shape)\n",
    "# print(gc.collect())"
   ]
  },
  {
   "cell_type": "markdown",
   "metadata": {
    "_uuid": "6b75b8b2aa7b5fc812ee30a71e56889b587b22bf"
   },
   "source": [
    "No missing values."
   ]
  },
  {
   "cell_type": "code",
   "execution_count": null,
   "metadata": {
    "_uuid": "f86c914cb91d9adac5746f189bcb64ae9fc2560d"
   },
   "outputs": [],
   "source": [
    "train_df.head()"
   ]
  },
  {
   "cell_type": "code",
   "execution_count": null,
   "metadata": {
    "_uuid": "9e6bb98ee63f6d406f6f017eb79b287d1a491022"
   },
   "outputs": [],
   "source": [
    "test_df.head()"
   ]
  },
  {
   "cell_type": "markdown",
   "metadata": {
    "_uuid": "f668315367b6bf16c5e872ba8e06cfe7aa324500"
   },
   "source": [
    "## 2 - EDA"
   ]
  },
  {
   "cell_type": "markdown",
   "metadata": {
    "_uuid": "cdaf195bef3e9f737cde0f70ccdb5102a53df91a"
   },
   "source": [
    "### Target & Experiment\n",
    "\n",
    "The pilots experienced distractions intended to induce one of the following three cognitive states:\n",
    "\n",
    "- Channelized Attention (CA) is, roughly speaking, the state of being focused on one task to the exclusion of all others. This is induced in benchmarking by having the subjects play an engaging puzzle-based video game.\n",
    "- Diverted Attention (DA) is the state of having one’s attention diverted by actions or thought processes associated with a decision. This is induced by having the subjects perform a display monitoring task. Periodically, a math problem showed up which had to be solved before returning to the monitoring task.\n",
    "- Startle/Surprise (SS) is induced by having the subjects watch movie clips with jump scares.\n",
    "\n",
    "Samples are labelled the following way : \n",
    "- A = baseline\n",
    "- B = SS\n",
    "- C = CA\n",
    "- D = DA"
   ]
  },
  {
   "cell_type": "code",
   "execution_count": null,
   "metadata": {
    "_uuid": "e1232a0fc3cd139ce8d98bcbfabcd3872b8cc489"
   },
   "outputs": [],
   "source": [
    "plt.figure(figsize=(15,10))\n",
    "sns.countplot(train_df['event'])\n",
    "plt.xlabel(\"State of the pilot\", fontsize=12)\n",
    "plt.ylabel(\"Count\", fontsize=12)\n",
    "plt.title(\"Target repartition\", fontsize=15)\n",
    "plt.show()"
   ]
  },
  {
   "cell_type": "code",
   "execution_count": null,
   "metadata": {
    "_uuid": "73ed16fa93bf5650be16c9176f674ab31237366f"
   },
   "outputs": [],
   "source": [
    "plt.figure(figsize=(15,10))\n",
    "sns.countplot('experiment', hue='event', data=train_df)\n",
    "plt.xlabel(\"Experiment and state of the pilot\", fontsize=12)\n",
    "plt.ylabel(\"Count (log)\", fontsize=12)\n",
    "plt.yscale('log')\n",
    "plt.title(\"Target repartition for different experiments\", fontsize=15)\n",
    "plt.show()"
   ]
  },
  {
   "cell_type": "markdown",
   "metadata": {
    "_uuid": "ff5c1e507133757dadb5b43fdc14382be794caee"
   },
   "source": [
    "The experiment of the test set is LOFT (Line Oriented Flight Training), which is a full flight (take off, flight, and landing) in a flight simulator. "
   ]
  },
  {
   "cell_type": "markdown",
   "metadata": {
    "_uuid": "604253799b7a1cb8f78d1188ede41946a23c5897"
   },
   "source": [
    "### Seat\n",
    "Which seat the pilot is sitting in.\n",
    "- 0 : left seat\n",
    "- 1 : right seat\n",
    "\n",
    "This probably has nothing to do with the outcome of the experiment though."
   ]
  },
  {
   "cell_type": "code",
   "execution_count": null,
   "metadata": {
    "_uuid": "da63b54a38f627e271d2bafb0346898c1ea70abf"
   },
   "outputs": [],
   "source": [
    "plt.figure(figsize=(15,10))\n",
    "sns.countplot('event', hue='seat', data=train_df)\n",
    "plt.xlabel(\"Seat and state of the pilot\", fontsize=12)\n",
    "plt.ylabel(\"Count (log)\", fontsize=12)\n",
    "plt.yscale('log')\n",
    "plt.title(\"Left seat or right seat ?\", fontsize=15)\n",
    "plt.show()"
   ]
  },
  {
   "cell_type": "markdown",
   "metadata": {
    "_uuid": "42d30f1a6f3ae4131696b104bbbfdfc65e4a7db8"
   },
   "source": [
    "### Time of the experiment"
   ]
  },
  {
   "cell_type": "code",
   "execution_count": null,
   "metadata": {
    "_uuid": "be5fa5870ca99b0a4c899342109abd88d0061984"
   },
   "outputs": [],
   "source": [
    "plt.figure(figsize=(15,10))\n",
    "sns.violinplot(x='event', y='time', data=train_df.sample(50000))\n",
    "plt.ylabel(\"Time (s)\", fontsize=12)\n",
    "plt.xlabel(\"Event\", fontsize=12)\n",
    "plt.title(\"Which time do events occur at ?\", fontsize=15)\n",
    "plt.show()"
   ]
  },
  {
   "cell_type": "code",
   "execution_count": null,
   "metadata": {
    "_uuid": "1703fcef0081a8017816c4a066174e588631d1bb"
   },
   "outputs": [],
   "source": [
    "plt.figure(figsize=(15,10))\n",
    "sns.distplot(test_df['time'], label='Test set')\n",
    "sns.distplot(train_df['time'], label='Train set')\n",
    "plt.legend()\n",
    "plt.xlabel(\"Time (s)\", fontsize=12)\n",
    "plt.title(\"Reparition of the time feature\", fontsize=15)\n",
    "plt.show()"
   ]
  },
  {
   "cell_type": "markdown",
   "metadata": {
    "_uuid": "29369d33f917a7480d12727e59ffc15ee8147c95"
   },
   "source": [
    "The repartition of events is interesting. However, we can't use this feature because time in the flight simulator has nothing to do with time in the experiments. \n",
    "It's a shame because take-off and landing could have been exploited."
   ]
  },
  {
   "cell_type": "markdown",
   "metadata": {
    "_uuid": "5d8994b040c6e7f956513b8e4d45ede9e835b837"
   },
   "source": [
    "### Electroencephalogram recordings"
   ]
  },
  {
   "cell_type": "code",
   "execution_count": null,
   "metadata": {
    "_uuid": "1ce1c2ff455e2c47200dc3252280dab7bbbefba2"
   },
   "outputs": [],
   "source": [
    "eeg_features = [\"eeg_fp1\", \"eeg_f7\", \"eeg_f8\", \"eeg_t4\", \"eeg_t6\", \"eeg_t5\", \"eeg_t3\", \"eeg_fp2\", \"eeg_o1\", \"eeg_p3\", \"eeg_pz\", \"eeg_f3\", \"eeg_fz\", \"eeg_f4\", \"eeg_c4\", \"eeg_p4\", \"eeg_poz\", \"eeg_c3\", \"eeg_cz\", \"eeg_o2\"]"
   ]
  },
  {
   "cell_type": "code",
   "execution_count": null,
   "metadata": {
    "_uuid": "22cdf9fb51fc3a6b54fb8254f9dd7e7a7479d6bd"
   },
   "outputs": [],
   "source": [
    "plt.figure(figsize=(20,25))\n",
    "i = 0\n",
    "\n",
    "for egg in eeg_features:\n",
    "    i += 1\n",
    "    plt.subplot(5, 4, i)\n",
    "    sns.boxplot(x='event', y=egg, data=train_df.sample(50000), showfliers=False)\n",
    "\n",
    "plt.show()"
   ]
  },
  {
   "cell_type": "markdown",
   "metadata": {
    "_uuid": "9d9bf1beac222f111ab8d09e3e06f39dc0db2e12"
   },
   "source": [
    "We Also check if features have the same distribution on the test and train set"
   ]
  },
  {
   "cell_type": "code",
   "execution_count": null,
   "metadata": {
    "_uuid": "ce641664022377120dc7328059427446f1163ef8"
   },
   "outputs": [],
   "source": [
    "plt.figure(figsize=(20,25))\n",
    "plt.title('Eeg features distributions')\n",
    "i = 0\n",
    "\n",
    "for eeg in eeg_features:\n",
    "    i += 1\n",
    "    plt.subplot(5, 4, i)\n",
    "    sns.distplot(test_df.sample(10000)[eeg], label='Test set', hist=False)\n",
    "    sns.distplot(train_df.sample(10000)[eeg], label='Train set', hist=False)\n",
    "    plt.xlim((-500, 500))\n",
    "    plt.legend()\n",
    "    plt.xlabel(eeg, fontsize=12)\n",
    "\n",
    "plt.show()"
   ]
  },
  {
   "cell_type": "markdown",
   "metadata": {
    "_uuid": "a1a5ec1288413133fd22d81ae926163b821d6c98"
   },
   "source": [
    "Reparitions seem consistent :  Gaussians with a sinusoïdal noise centered at 0. Note that the variance is larger on the test set."
   ]
  },
  {
   "cell_type": "markdown",
   "metadata": {
    "_uuid": "0c7f7696cad5db2b1bfca5b87380fba81a7a9375"
   },
   "source": [
    "### Electrocardiogram\n",
    "- 3-point Electrocardiogram signal. The sensor had a resolution/bit of .012215 µV and a range of -100mV to +100mV. The data are provided in microvolts."
   ]
  },
  {
   "cell_type": "code",
   "execution_count": null,
   "metadata": {
    "_uuid": "881f7235401f16fc88adf3d526642f703946d0c5"
   },
   "outputs": [],
   "source": [
    "plt.figure(figsize=(15,10))\n",
    "sns.violinplot(x='event', y='ecg', data=train_df.sample(50000))\n",
    "plt.ylabel(\"Electrocardiogram Signal (µV)\", fontsize=12)\n",
    "plt.xlabel(\"Event\", fontsize=12)\n",
    "plt.title(\"Electrocardiogram signal influence\", fontsize=15)\n",
    "plt.show()"
   ]
  },
  {
   "cell_type": "code",
   "execution_count": null,
   "metadata": {
    "_uuid": "114728ffc9a05257b63c16cd19c345e722f0ff36"
   },
   "outputs": [],
   "source": [
    "plt.figure(figsize=(15,10))\n",
    "sns.distplot(test_df['ecg'], label='Test set')\n",
    "sns.distplot(train_df['ecg'], label='Train set')\n",
    "plt.legend()\n",
    "plt.xlabel(\"Electrocardiogram Signal (µV)\", fontsize=12)\n",
    "plt.title(\"Electrocardiogram Signal Distribution\", fontsize=15)\n",
    "plt.show()"
   ]
  },
  {
   "cell_type": "markdown",
   "metadata": {
    "_uuid": "59f93ef510fa4e05e2f987d5a75ac2ae9ef0ab02"
   },
   "source": [
    "Except foir the >20000-ish samples, train/test repartitions are similar."
   ]
  },
  {
   "cell_type": "markdown",
   "metadata": {
    "_uuid": "db52190ed75af7ee9322b459eb9e42b597eb2632"
   },
   "source": [
    "### Respiration \n",
    "- A measure of the rise and fall of the chest. The sensor had a resolution/bit of .2384186 µV and a range of -2.0V to +2.0V. The data are provided in microvolts."
   ]
  },
  {
   "cell_type": "code",
   "execution_count": null,
   "metadata": {
    "_uuid": "a654a8e6d29bd4ad06f9bf9696c1ec47694c5a80"
   },
   "outputs": [],
   "source": [
    "plt.figure(figsize=(15,10))\n",
    "sns.violinplot(x='event', y='r', data=train_df.sample(50000))\n",
    "plt.ylabel(\"Respiration Signal (µV)\", fontsize=12)\n",
    "plt.xlabel(\"Event\", fontsize=12)\n",
    "plt.title(\"Respiration influence\", fontsize=15)\n",
    "plt.show()"
   ]
  },
  {
   "cell_type": "code",
   "execution_count": null,
   "metadata": {
    "_uuid": "ac3fac818a7e0a6ca129cc98cd305aec827c48d2"
   },
   "outputs": [],
   "source": [
    "plt.figure(figsize=(15,10))\n",
    "sns.distplot(test_df['r'], label='Test set')\n",
    "sns.distplot(train_df['r'], label='Train set')\n",
    "plt.legend()\n",
    "plt.xlabel(\"Respiration Signal (µV)\", fontsize=12)\n",
    "plt.title(\"Respiration Signal Distribution\", fontsize=15)\n",
    "plt.show()"
   ]
  },
  {
   "cell_type": "markdown",
   "metadata": {
    "_uuid": "d92952914f8eb531ae46bbc557865738aa6e3563"
   },
   "source": [
    "Nothing much to say here, the test set has a bunch of sample with lower values though."
   ]
  },
  {
   "cell_type": "markdown",
   "metadata": {
    "_uuid": "e0ce0eaf7057cf7d8e1106f2a33c281002858768"
   },
   "source": [
    "### Galvanic Skin Response\n",
    " - A measure of electrodermal activity. The sensor had a resolution/bit of .2384186 µV and a range of -2.0V to +2.0V. The data are provided in microvolts.\n",
    " > \"The galvanic skin response (GSR, which falls under the umbrella term of electrodermal activity, or EDA) refers to changes in sweat gland activity that are reflective of the intensity of our emotional state, otherwise known as emotional arousal.\""
   ]
  },
  {
   "cell_type": "code",
   "execution_count": null,
   "metadata": {
    "_uuid": "93b77b5eab8b763fb413634448437aae6ddbca73"
   },
   "outputs": [],
   "source": [
    "plt.figure(figsize=(15,10))\n",
    "sns.violinplot(x='event', y='gsr', data=train_df.sample(50000))\n",
    "plt.ylabel(\"Electrodermal activity measure (µV)\", fontsize=12)\n",
    "plt.xlabel(\"Event\", fontsize=12)\n",
    "plt.title(\"Electrodermal activity influence\", fontsize=15)\n",
    "plt.show()"
   ]
  },
  {
   "cell_type": "code",
   "execution_count": null,
   "metadata": {
    "_uuid": "a28df0b9491ca5ef3636e1598b0f640a951ac0b3"
   },
   "outputs": [],
   "source": [
    "plt.figure(figsize=(15,10))\n",
    "sns.distplot(test_df['gsr'], label='Test set')\n",
    "sns.distplot(train_df['gsr'], label='Train set')\n",
    "plt.legend()\n",
    "plt.xlabel(\"Electrodermal activity measure (µV)\", fontsize=12)\n",
    "plt.title(\"Electrodermal activity Distribution\", fontsize=15)\n",
    "plt.show()"
   ]
  },
  {
   "cell_type": "markdown",
   "metadata": {
    "_uuid": "0e72c47bd342a3c2de1dac23650f83c0eadeec2c"
   },
   "source": [
    "Again, quite similar."
   ]
  },
  {
   "cell_type": "markdown",
   "metadata": {
    "_uuid": "2db337adcb15835faaf1c13bac6425e180a8609f"
   },
   "source": [
    "## 3 - Gradient Boosting"
   ]
  },
  {
   "cell_type": "markdown",
   "metadata": {
    "_uuid": "7372f9c70fdb31eeb44ff8ca68eece9eb990643b"
   },
   "source": [
    "### Normalizing \n",
    "\n",
    "Because of earlier remarks, we normalize our features. \n",
    "\n",
    "I do believe the following features depend a lot of the person, therefore I apply a Min/Max Scaler for each pilot."
   ]
  },
  {
   "cell_type": "code",
   "execution_count": null,
   "metadata": {
    "_uuid": "40bc1b0016bc17dcf176820bba4483989e6972aa"
   },
   "outputs": [],
   "source": [
    "features_n = [\"eeg_fp1\", \"eeg_f7\", \"eeg_f8\", \"eeg_t4\", \"eeg_t6\", \"eeg_t5\", \"eeg_t3\", \"eeg_fp2\", \"eeg_o1\", \"eeg_p3\", \"eeg_pz\", \"eeg_f3\", \"eeg_fz\", \"eeg_f4\", \"eeg_c4\", \"eeg_p4\", \"eeg_poz\", \"eeg_c3\", \"eeg_cz\", \"eeg_o2\", \"ecg\", \"r\", \"gsr\"]"
   ]
  },
  {
   "cell_type": "code",
   "execution_count": null,
   "metadata": {
    "_uuid": "f082deaaec49ff2347344dbd2e25fde039e5cb95"
   },
   "outputs": [],
   "source": [
    "train_df['pilot'] = 100 * train_df['seat'] + train_df['crew']\n",
    "test_df['pilot'] = 100 * test_df['seat'] + test_df['crew']\n",
    "\n",
    "print(\"Number of pilots : \", len(train_df['pilot'].unique()))"
   ]
  },
  {
   "cell_type": "code",
   "execution_count": null,
   "metadata": {
    "_uuid": "b315f9f086b7d2fc11c4fc4eda88012e6ac60640"
   },
   "outputs": [],
   "source": [
    "def normalize_by_pilots(df):\n",
    "    pilots = df[\"pilot\"].unique()\n",
    "    for pilot in tqdm(pilots):\n",
    "        ids = df[df[\"pilot\"] == pilot].index\n",
    "        scaler = MinMaxScaler()\n",
    "        df.loc[ids, features_n] = scaler.fit_transform(df.loc[ids, features_n])\n",
    "        \n",
    "    return df"
   ]
  },
  {
   "cell_type": "code",
   "execution_count": null,
   "metadata": {
    "_uuid": "75ba6f6e66dfb5c32318e1f220a721a08cf3f707"
   },
   "outputs": [],
   "source": [
    "# train_df = normalize_by_pilots(train_df)\n",
    "# test_df = normalize_by_pilots(test_df)"
   ]
  },
  {
   "cell_type": "markdown",
   "metadata": {
    "_uuid": "f4f0a594f9474fda8920312f04caeebed4c6d73d"
   },
   "source": [
    "### Train / Test split"
   ]
  },
  {
   "cell_type": "code",
   "execution_count": null,
   "metadata": {
    "_uuid": "042c436d74a3cb28fa8d0a6df80e255518a96b8d"
   },
   "outputs": [],
   "source": [
    "train_df, val_df = train_test_split(train_df, test_size=0.2, random_state=420)\n",
    "print(f\"Training on {train_df.shape[0]} samples.\")"
   ]
  },
  {
   "cell_type": "markdown",
   "metadata": {
    "_uuid": "78cdb7fb5df729452e18d13a52f74930ab900c76"
   },
   "source": [
    "### Model\n",
    "Note that I did not bother tweaking the parameters yet."
   ]
  },
  {
   "cell_type": "code",
   "execution_count": null,
   "metadata": {
    "_uuid": "7e347178cf9ff1748522e24c53b5e8d2218c7772"
   },
   "outputs": [],
   "source": [
    "features = [\"crew\", \"seat\"] + features_n\n",
    "      \n",
    "def run_lgb(df_train, df_test):\n",
    "    # Classes as integers\n",
    "    dic = {'A': 0, 'B': 1, 'C': 2, 'D': 3}\n",
    "    try:\n",
    "        df_train[\"event\"] = df_train[\"event\"].apply(lambda x: dic[x])\n",
    "        df_test[\"event\"] = df_test[\"event\"].apply(lambda x: dic[x])\n",
    "    except: \n",
    "        pass\n",
    "    \n",
    "    params = {\"objective\" : \"multiclass\",\n",
    "              \"num_class\": 4,\n",
    "              \"metric\" : \"multi_error\",\n",
    "              \"num_leaves\" : 30,\n",
    "              \"min_child_weight\" : 50,\n",
    "              \"learning_rate\" : 0.1,\n",
    "              \"bagging_fraction\" : 0.7,\n",
    "              \"feature_fraction\" : 0.7,\n",
    "              \"bagging_seed\" : 420,\n",
    "              \"verbosity\" : -1\n",
    "             }\n",
    "    \n",
    "    lg_train = lgb.Dataset(df_train[features], label=(df_train[\"event\"]))\n",
    "    lg_test = lgb.Dataset(df_test[features], label=(df_test[\"event\"]))\n",
    "    model = lgb.train(params, lg_train, 1000, valid_sets=[lg_test], early_stopping_rounds=50, verbose_eval=100)\n",
    "    \n",
    "    return model"
   ]
  },
  {
   "cell_type": "code",
   "execution_count": null,
   "metadata": {
    "_uuid": "519c568fe098bcdb622d423ae3f8b920be610c1a"
   },
   "outputs": [],
   "source": [
    "model = run_lgb(train_df, val_df)"
   ]
  },
  {
   "cell_type": "markdown",
   "metadata": {
    "_uuid": "6a27228312379f6b4a14cf1b47897d035db10978"
   },
   "source": [
    "### Feature importance"
   ]
  },
  {
   "cell_type": "code",
   "execution_count": null,
   "metadata": {
    "_uuid": "6fb7d1cd460838580f89ec0850b1656cce69d3cf"
   },
   "outputs": [],
   "source": [
    "fig, ax = plt.subplots(figsize=(12,10))\n",
    "lgb.plot_importance(model, height=0.8, ax=ax)\n",
    "ax.grid(False)\n",
    "plt.ylabel('Feature', size=12)\n",
    "plt.xlabel('Importance', size=12)\n",
    "plt.title(\"Importance of the Features of our LightGBM Model\", fontsize=15)\n",
    "plt.show()"
   ]
  },
  {
   "cell_type": "markdown",
   "metadata": {
    "_uuid": "3308f3210916c8ca93718a08e02692d32479391d"
   },
   "source": [
    "### Confusion Matrix"
   ]
  },
  {
   "cell_type": "code",
   "execution_count": null,
   "metadata": {
    "_uuid": "6b7c49a636351c7c98115285fe91f144593138fc"
   },
   "outputs": [],
   "source": [
    "pred_val = model.predict(val_df[features], num_iteration=model.best_iteration)\n",
    "#pred_train = model.predict(train_df[features], num_iteration=model.best_iteration)"
   ]
  },
  {
   "cell_type": "code",
   "execution_count": null,
   "metadata": {
    "_uuid": "c2935e56653caa342582eabc57859d523822a491"
   },
   "outputs": [],
   "source": [
    "print(\"Log loss on validation data :\", round(log_loss(np.array(val_df[\"event\"].values), pred_val), 3))"
   ]
  },
  {
   "cell_type": "code",
   "execution_count": null,
   "metadata": {
    "_kg_hide-input": true,
    "_uuid": "6dfcf700f63ede147043aeb00f344ea3947ae1c3"
   },
   "outputs": [],
   "source": [
    "def plot_confusion_matrix(cm, classes, title='Confusion matrix', normalize=False, cmap=plt.cm.Blues):\n",
    "    if normalize:\n",
    "        cm = cm.astype('float') / cm.sum(axis=1)[:, np.newaxis]\n",
    "    fmt = '.2f' if normalize else 'd'\n",
    "\n",
    "    fig, ax = plt.subplots(figsize=(15, 10))\n",
    "    ax.imshow(cm, interpolation='nearest', cmap=cmap)\n",
    "\n",
    "    plt.imshow(cm, interpolation='nearest', cmap=cmap)\n",
    "    plt.title(title, size=15)\n",
    "    plt.colorbar()\n",
    "    plt.grid(False)\n",
    "    tick_marks = np.arange(len(classes))\n",
    "    plt.xticks(tick_marks, classes, rotation=45)\n",
    "    plt.yticks(tick_marks, classes)\n",
    "\n",
    "    thresh = (cm.max()+cm.min()) / 2.\n",
    "    for i, j in itertools.product(range(cm.shape[0]), range(cm.shape[1])):\n",
    "        plt.text(j, i, format(cm[i, j], fmt),\n",
    "                 horizontalalignment=\"center\",\n",
    "                 color=\"white\" if cm[i, j] > thresh else \"black\")\n",
    "\n",
    "    plt.tight_layout()\n",
    "    plt.ylabel('True label', size=12)\n",
    "    plt.xlabel('Predicted label', size=12)"
   ]
  },
  {
   "cell_type": "code",
   "execution_count": null,
   "metadata": {
    "_uuid": "4b1033ff7f9a38e3232309fb74d5f7c1db8592ea"
   },
   "outputs": [],
   "source": [
    "conf_mat_val = confusion_matrix(np.argmax(pred_val, axis=1), val_df[\"event\"].values)\n",
    "plot_confusion_matrix(conf_mat_val, [\"A\", \"B\", \"C\", \"D\"], title='Confusion matrix on Validation data', normalize=True)"
   ]
  },
  {
   "cell_type": "markdown",
   "metadata": {
    "_uuid": "9fc289527b4d9019e2234ad1e9fbe74c55d32f49"
   },
   "source": [
    "### Submission"
   ]
  },
  {
   "cell_type": "code",
   "execution_count": null,
   "metadata": {
    "_uuid": "0eeb0d61db636116ea6d08bc3ef420c346368ee0"
   },
   "outputs": [],
   "source": [
    "pred_test = model.predict(test_df[features], num_iteration=model.best_iteration)"
   ]
  },
  {
   "cell_type": "code",
   "execution_count": null,
   "metadata": {
    "_uuid": "344bd657586f43a8786ca1622b9ca9e468d6c5d8"
   },
   "outputs": [],
   "source": [
    "submission = pd.DataFrame(np.concatenate((np.arange(len(test_df))[:, np.newaxis], pred_test), axis=1), columns=['id', 'A', 'B', 'C', 'D'])\n",
    "submission['id'] = submission['id'].astype(int)"
   ]
  },
  {
   "cell_type": "code",
   "execution_count": null,
   "metadata": {
    "_uuid": "4cb7d71904610cb67a231077f9ba362979d892da"
   },
   "outputs": [],
   "source": [
    "submission.head()"
   ]
  },
  {
   "cell_type": "code",
   "execution_count": null,
   "metadata": {
    "_uuid": "b73c3ea57f106bdd4957f657c2e3e311d356c407"
   },
   "outputs": [],
   "source": [
    "submission.to_csv(\"submission.csv\", index=False)"
   ]
  },
  {
   "cell_type": "markdown",
   "metadata": {
    "_uuid": "03871a0024f52e6cd96122af5303384517b7504e"
   },
   "source": [
    "Any feedback is always appreciated ! \n",
    "\n",
    "### *Thanks for reading !*\n"
   ]
  }
 ],
 "metadata": {
  "kernelspec": {
   "display_name": "Python 3",
   "language": "python",
   "name": "python3"
  },
  "language_info": {
   "codemirror_mode": {
    "name": "ipython",
    "version": 3
   },
   "file_extension": ".py",
   "mimetype": "text/x-python",
   "name": "python",
   "nbconvert_exporter": "python",
   "pygments_lexer": "ipython3",
   "version": "3.6.7"
  }
 },
 "nbformat": 4,
 "nbformat_minor": 1
}
